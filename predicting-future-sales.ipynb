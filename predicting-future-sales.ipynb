{
 "cells": [
  {
   "cell_type": "code",
   "execution_count": 1,
   "id": "23fa3302",
   "metadata": {
    "_cell_guid": "b1076dfc-b9ad-4769-8c92-a6c4dae69d19",
    "_uuid": "8f2839f25d086af736a60e9eeb907d3b93b6e0e5",
    "execution": {
     "iopub.execute_input": "2022-09-13T05:56:33.155490Z",
     "iopub.status.busy": "2022-09-13T05:56:33.154995Z",
     "iopub.status.idle": "2022-09-13T05:56:33.170683Z",
     "shell.execute_reply": "2022-09-13T05:56:33.169762Z"
    },
    "papermill": {
     "duration": 0.026599,
     "end_time": "2022-09-13T05:56:33.173085",
     "exception": false,
     "start_time": "2022-09-13T05:56:33.146486",
     "status": "completed"
    },
    "tags": []
   },
   "outputs": [
    {
     "name": "stdout",
     "output_type": "stream",
     "text": [
      "/kaggle/input/competitive-data-science-predict-future-sales/items.csv\n",
      "/kaggle/input/competitive-data-science-predict-future-sales/sample_submission.csv\n",
      "/kaggle/input/competitive-data-science-predict-future-sales/item_categories.csv\n",
      "/kaggle/input/competitive-data-science-predict-future-sales/sales_train.csv\n",
      "/kaggle/input/competitive-data-science-predict-future-sales/shops.csv\n",
      "/kaggle/input/competitive-data-science-predict-future-sales/test.csv\n"
     ]
    }
   ],
   "source": [
    "# This Python 3 environment comes with many helpful analytics libraries installed\n",
    "# It is defined by the kaggle/python Docker image: https://github.com/kaggle/docker-python\n",
    "# For example, here's several helpful packages to load\n",
    "\n",
    "import numpy as np # linear algebra\n",
    "import pandas as pd # data processing, CSV file I/O (e.g. pd.read_csv)\n",
    "\n",
    "# Input data files are available in the read-only \"../input/\" directory\n",
    "# For example, running this (by clicking run or pressing Shift+Enter) will list all files under the input directory\n",
    "\n",
    "import os\n",
    "for dirname, _, filenames in os.walk('/kaggle/input'):\n",
    "    for filename in filenames:\n",
    "        print(os.path.join(dirname, filename))\n",
    "\n",
    "# You can write up to 20GB to the current directory (/kaggle/working/) that gets preserved as output when you create a version using \"Save & Run All\" \n",
    "# You can also write temporary files to /kaggle/temp/, but they won't be saved outside of the current session"
   ]
  },
  {
   "cell_type": "code",
   "execution_count": 2,
   "id": "515b576e",
   "metadata": {
    "execution": {
     "iopub.execute_input": "2022-09-13T05:56:33.189050Z",
     "iopub.status.busy": "2022-09-13T05:56:33.187512Z",
     "iopub.status.idle": "2022-09-13T05:56:34.434377Z",
     "shell.execute_reply": "2022-09-13T05:56:34.433087Z"
    },
    "papermill": {
     "duration": 1.257392,
     "end_time": "2022-09-13T05:56:34.437486",
     "exception": false,
     "start_time": "2022-09-13T05:56:33.180094",
     "status": "completed"
    },
    "tags": []
   },
   "outputs": [],
   "source": [
    "import matplotlib.pyplot as plt\n",
    "import seaborn as sns\n",
    "from datetime import datetime"
   ]
  },
  {
   "cell_type": "markdown",
   "id": "8bacfcc5",
   "metadata": {
    "papermill": {
     "duration": 0.00573,
     "end_time": "2022-09-13T05:56:34.449003",
     "exception": false,
     "start_time": "2022-09-13T05:56:34.443273",
     "status": "completed"
    },
    "tags": []
   },
   "source": [
    "## Loading Data"
   ]
  },
  {
   "cell_type": "code",
   "execution_count": 3,
   "id": "e23ccf42",
   "metadata": {
    "execution": {
     "iopub.execute_input": "2022-09-13T05:56:34.462819Z",
     "iopub.status.busy": "2022-09-13T05:56:34.462375Z",
     "iopub.status.idle": "2022-09-13T05:56:37.291271Z",
     "shell.execute_reply": "2022-09-13T05:56:37.290153Z"
    },
    "papermill": {
     "duration": 2.838846,
     "end_time": "2022-09-13T05:56:37.293882",
     "exception": false,
     "start_time": "2022-09-13T05:56:34.455036",
     "status": "completed"
    },
    "tags": []
   },
   "outputs": [],
   "source": [
    "cat_data = pd.read_csv(\"../input/competitive-data-science-predict-future-sales/item_categories.csv\")\n",
    "train_data = pd.read_csv(\"../input/competitive-data-science-predict-future-sales/sales_train.csv\")\n",
    "items_data = pd.read_csv(\"../input/competitive-data-science-predict-future-sales/items.csv\")\n",
    "shops_data = pd.read_csv(\"../input/competitive-data-science-predict-future-sales/shops.csv\")\n",
    "test_data = pd.read_csv(\"../input/competitive-data-science-predict-future-sales/test.csv\")"
   ]
  },
  {
   "cell_type": "markdown",
   "id": "f7c9cb5e",
   "metadata": {
    "papermill": {
     "duration": 0.005436,
     "end_time": "2022-09-13T05:56:37.305329",
     "exception": false,
     "start_time": "2022-09-13T05:56:37.299893",
     "status": "completed"
    },
    "tags": []
   },
   "source": [
    "## EDA"
   ]
  },
  {
   "cell_type": "code",
   "execution_count": 4,
   "id": "43564c39",
   "metadata": {
    "execution": {
     "iopub.execute_input": "2022-09-13T05:56:37.318546Z",
     "iopub.status.busy": "2022-09-13T05:56:37.318127Z",
     "iopub.status.idle": "2022-09-13T05:56:37.339603Z",
     "shell.execute_reply": "2022-09-13T05:56:37.338450Z"
    },
    "papermill": {
     "duration": 0.031533,
     "end_time": "2022-09-13T05:56:37.342533",
     "exception": false,
     "start_time": "2022-09-13T05:56:37.311000",
     "status": "completed"
    },
    "tags": []
   },
   "outputs": [
    {
     "data": {
      "text/html": [
       "<div>\n",
       "<style scoped>\n",
       "    .dataframe tbody tr th:only-of-type {\n",
       "        vertical-align: middle;\n",
       "    }\n",
       "\n",
       "    .dataframe tbody tr th {\n",
       "        vertical-align: top;\n",
       "    }\n",
       "\n",
       "    .dataframe thead th {\n",
       "        text-align: right;\n",
       "    }\n",
       "</style>\n",
       "<table border=\"1\" class=\"dataframe\">\n",
       "  <thead>\n",
       "    <tr style=\"text-align: right;\">\n",
       "      <th></th>\n",
       "      <th>item_category_name</th>\n",
       "      <th>item_category_id</th>\n",
       "    </tr>\n",
       "  </thead>\n",
       "  <tbody>\n",
       "    <tr>\n",
       "      <th>0</th>\n",
       "      <td>PC - Гарнитуры/Наушники</td>\n",
       "      <td>0</td>\n",
       "    </tr>\n",
       "    <tr>\n",
       "      <th>1</th>\n",
       "      <td>Аксессуары - PS2</td>\n",
       "      <td>1</td>\n",
       "    </tr>\n",
       "    <tr>\n",
       "      <th>2</th>\n",
       "      <td>Аксессуары - PS3</td>\n",
       "      <td>2</td>\n",
       "    </tr>\n",
       "    <tr>\n",
       "      <th>3</th>\n",
       "      <td>Аксессуары - PS4</td>\n",
       "      <td>3</td>\n",
       "    </tr>\n",
       "    <tr>\n",
       "      <th>4</th>\n",
       "      <td>Аксессуары - PSP</td>\n",
       "      <td>4</td>\n",
       "    </tr>\n",
       "  </tbody>\n",
       "</table>\n",
       "</div>"
      ],
      "text/plain": [
       "        item_category_name  item_category_id\n",
       "0  PC - Гарнитуры/Наушники                 0\n",
       "1         Аксессуары - PS2                 1\n",
       "2         Аксессуары - PS3                 2\n",
       "3         Аксессуары - PS4                 3\n",
       "4         Аксессуары - PSP                 4"
      ]
     },
     "execution_count": 4,
     "metadata": {},
     "output_type": "execute_result"
    }
   ],
   "source": [
    "cat_data.head()  # rows*columns: 84 * 2 \n",
    "# car_data.count()"
   ]
  },
  {
   "cell_type": "code",
   "execution_count": 5,
   "id": "73f2bb56",
   "metadata": {
    "execution": {
     "iopub.execute_input": "2022-09-13T05:56:37.356113Z",
     "iopub.status.busy": "2022-09-13T05:56:37.355634Z",
     "iopub.status.idle": "2022-09-13T05:56:37.365379Z",
     "shell.execute_reply": "2022-09-13T05:56:37.364191Z"
    },
    "papermill": {
     "duration": 0.019201,
     "end_time": "2022-09-13T05:56:37.367747",
     "exception": false,
     "start_time": "2022-09-13T05:56:37.348546",
     "status": "completed"
    },
    "tags": []
   },
   "outputs": [
    {
     "data": {
      "text/plain": [
       "item_category_name    0\n",
       "item_category_id      0\n",
       "dtype: int64"
      ]
     },
     "execution_count": 5,
     "metadata": {},
     "output_type": "execute_result"
    }
   ],
   "source": [
    "cat_data.isnull().sum()"
   ]
  },
  {
   "cell_type": "code",
   "execution_count": 6,
   "id": "ff47317b",
   "metadata": {
    "execution": {
     "iopub.execute_input": "2022-09-13T05:56:37.382147Z",
     "iopub.status.busy": "2022-09-13T05:56:37.381222Z",
     "iopub.status.idle": "2022-09-13T05:56:37.395307Z",
     "shell.execute_reply": "2022-09-13T05:56:37.394117Z"
    },
    "papermill": {
     "duration": 0.02369,
     "end_time": "2022-09-13T05:56:37.397607",
     "exception": false,
     "start_time": "2022-09-13T05:56:37.373917",
     "status": "completed"
    },
    "tags": []
   },
   "outputs": [
    {
     "data": {
      "text/html": [
       "<div>\n",
       "<style scoped>\n",
       "    .dataframe tbody tr th:only-of-type {\n",
       "        vertical-align: middle;\n",
       "    }\n",
       "\n",
       "    .dataframe tbody tr th {\n",
       "        vertical-align: top;\n",
       "    }\n",
       "\n",
       "    .dataframe thead th {\n",
       "        text-align: right;\n",
       "    }\n",
       "</style>\n",
       "<table border=\"1\" class=\"dataframe\">\n",
       "  <thead>\n",
       "    <tr style=\"text-align: right;\">\n",
       "      <th></th>\n",
       "      <th>date</th>\n",
       "      <th>date_block_num</th>\n",
       "      <th>shop_id</th>\n",
       "      <th>item_id</th>\n",
       "      <th>item_price</th>\n",
       "      <th>item_cnt_day</th>\n",
       "    </tr>\n",
       "  </thead>\n",
       "  <tbody>\n",
       "    <tr>\n",
       "      <th>0</th>\n",
       "      <td>02.01.2013</td>\n",
       "      <td>0</td>\n",
       "      <td>59</td>\n",
       "      <td>22154</td>\n",
       "      <td>999.00</td>\n",
       "      <td>1.0</td>\n",
       "    </tr>\n",
       "    <tr>\n",
       "      <th>1</th>\n",
       "      <td>03.01.2013</td>\n",
       "      <td>0</td>\n",
       "      <td>25</td>\n",
       "      <td>2552</td>\n",
       "      <td>899.00</td>\n",
       "      <td>1.0</td>\n",
       "    </tr>\n",
       "    <tr>\n",
       "      <th>2</th>\n",
       "      <td>05.01.2013</td>\n",
       "      <td>0</td>\n",
       "      <td>25</td>\n",
       "      <td>2552</td>\n",
       "      <td>899.00</td>\n",
       "      <td>-1.0</td>\n",
       "    </tr>\n",
       "    <tr>\n",
       "      <th>3</th>\n",
       "      <td>06.01.2013</td>\n",
       "      <td>0</td>\n",
       "      <td>25</td>\n",
       "      <td>2554</td>\n",
       "      <td>1709.05</td>\n",
       "      <td>1.0</td>\n",
       "    </tr>\n",
       "    <tr>\n",
       "      <th>4</th>\n",
       "      <td>15.01.2013</td>\n",
       "      <td>0</td>\n",
       "      <td>25</td>\n",
       "      <td>2555</td>\n",
       "      <td>1099.00</td>\n",
       "      <td>1.0</td>\n",
       "    </tr>\n",
       "  </tbody>\n",
       "</table>\n",
       "</div>"
      ],
      "text/plain": [
       "         date  date_block_num  shop_id  item_id  item_price  item_cnt_day\n",
       "0  02.01.2013               0       59    22154      999.00           1.0\n",
       "1  03.01.2013               0       25     2552      899.00           1.0\n",
       "2  05.01.2013               0       25     2552      899.00          -1.0\n",
       "3  06.01.2013               0       25     2554     1709.05           1.0\n",
       "4  15.01.2013               0       25     2555     1099.00           1.0"
      ]
     },
     "execution_count": 6,
     "metadata": {},
     "output_type": "execute_result"
    }
   ],
   "source": [
    "train_data.head() # 2935849*6\n",
    "# train_data.count()"
   ]
  },
  {
   "cell_type": "code",
   "execution_count": 7,
   "id": "c550deac",
   "metadata": {
    "execution": {
     "iopub.execute_input": "2022-09-13T05:56:37.412371Z",
     "iopub.status.busy": "2022-09-13T05:56:37.411300Z",
     "iopub.status.idle": "2022-09-13T05:56:38.159132Z",
     "shell.execute_reply": "2022-09-13T05:56:38.157762Z"
    },
    "papermill": {
     "duration": 0.759028,
     "end_time": "2022-09-13T05:56:38.162879",
     "exception": false,
     "start_time": "2022-09-13T05:56:37.403851",
     "status": "completed"
    },
    "tags": []
   },
   "outputs": [
    {
     "data": {
      "text/html": [
       "<div>\n",
       "<style scoped>\n",
       "    .dataframe tbody tr th:only-of-type {\n",
       "        vertical-align: middle;\n",
       "    }\n",
       "\n",
       "    .dataframe tbody tr th {\n",
       "        vertical-align: top;\n",
       "    }\n",
       "\n",
       "    .dataframe thead th {\n",
       "        text-align: right;\n",
       "    }\n",
       "</style>\n",
       "<table border=\"1\" class=\"dataframe\">\n",
       "  <thead>\n",
       "    <tr style=\"text-align: right;\">\n",
       "      <th></th>\n",
       "      <th>date_block_num</th>\n",
       "      <th>shop_id</th>\n",
       "      <th>item_id</th>\n",
       "      <th>item_price</th>\n",
       "      <th>item_cnt_day</th>\n",
       "    </tr>\n",
       "  </thead>\n",
       "  <tbody>\n",
       "    <tr>\n",
       "      <th>count</th>\n",
       "      <td>2.935849e+06</td>\n",
       "      <td>2.935849e+06</td>\n",
       "      <td>2.935849e+06</td>\n",
       "      <td>2.935849e+06</td>\n",
       "      <td>2.935849e+06</td>\n",
       "    </tr>\n",
       "    <tr>\n",
       "      <th>mean</th>\n",
       "      <td>1.456991e+01</td>\n",
       "      <td>3.300173e+01</td>\n",
       "      <td>1.019723e+04</td>\n",
       "      <td>8.908532e+02</td>\n",
       "      <td>1.242641e+00</td>\n",
       "    </tr>\n",
       "    <tr>\n",
       "      <th>std</th>\n",
       "      <td>9.422988e+00</td>\n",
       "      <td>1.622697e+01</td>\n",
       "      <td>6.324297e+03</td>\n",
       "      <td>1.729800e+03</td>\n",
       "      <td>2.618834e+00</td>\n",
       "    </tr>\n",
       "    <tr>\n",
       "      <th>min</th>\n",
       "      <td>0.000000e+00</td>\n",
       "      <td>0.000000e+00</td>\n",
       "      <td>0.000000e+00</td>\n",
       "      <td>-1.000000e+00</td>\n",
       "      <td>-2.200000e+01</td>\n",
       "    </tr>\n",
       "    <tr>\n",
       "      <th>25%</th>\n",
       "      <td>7.000000e+00</td>\n",
       "      <td>2.200000e+01</td>\n",
       "      <td>4.476000e+03</td>\n",
       "      <td>2.490000e+02</td>\n",
       "      <td>1.000000e+00</td>\n",
       "    </tr>\n",
       "    <tr>\n",
       "      <th>50%</th>\n",
       "      <td>1.400000e+01</td>\n",
       "      <td>3.100000e+01</td>\n",
       "      <td>9.343000e+03</td>\n",
       "      <td>3.990000e+02</td>\n",
       "      <td>1.000000e+00</td>\n",
       "    </tr>\n",
       "    <tr>\n",
       "      <th>75%</th>\n",
       "      <td>2.300000e+01</td>\n",
       "      <td>4.700000e+01</td>\n",
       "      <td>1.568400e+04</td>\n",
       "      <td>9.990000e+02</td>\n",
       "      <td>1.000000e+00</td>\n",
       "    </tr>\n",
       "    <tr>\n",
       "      <th>max</th>\n",
       "      <td>3.300000e+01</td>\n",
       "      <td>5.900000e+01</td>\n",
       "      <td>2.216900e+04</td>\n",
       "      <td>3.079800e+05</td>\n",
       "      <td>2.169000e+03</td>\n",
       "    </tr>\n",
       "  </tbody>\n",
       "</table>\n",
       "</div>"
      ],
      "text/plain": [
       "       date_block_num       shop_id       item_id    item_price  item_cnt_day\n",
       "count    2.935849e+06  2.935849e+06  2.935849e+06  2.935849e+06  2.935849e+06\n",
       "mean     1.456991e+01  3.300173e+01  1.019723e+04  8.908532e+02  1.242641e+00\n",
       "std      9.422988e+00  1.622697e+01  6.324297e+03  1.729800e+03  2.618834e+00\n",
       "min      0.000000e+00  0.000000e+00  0.000000e+00 -1.000000e+00 -2.200000e+01\n",
       "25%      7.000000e+00  2.200000e+01  4.476000e+03  2.490000e+02  1.000000e+00\n",
       "50%      1.400000e+01  3.100000e+01  9.343000e+03  3.990000e+02  1.000000e+00\n",
       "75%      2.300000e+01  4.700000e+01  1.568400e+04  9.990000e+02  1.000000e+00\n",
       "max      3.300000e+01  5.900000e+01  2.216900e+04  3.079800e+05  2.169000e+03"
      ]
     },
     "execution_count": 7,
     "metadata": {},
     "output_type": "execute_result"
    }
   ],
   "source": [
    "train_data.describe()"
   ]
  },
  {
   "cell_type": "code",
   "execution_count": 8,
   "id": "61185206",
   "metadata": {
    "execution": {
     "iopub.execute_input": "2022-09-13T05:56:38.178178Z",
     "iopub.status.busy": "2022-09-13T05:56:38.177745Z",
     "iopub.status.idle": "2022-09-13T05:56:38.192112Z",
     "shell.execute_reply": "2022-09-13T05:56:38.190594Z"
    },
    "papermill": {
     "duration": 0.024966,
     "end_time": "2022-09-13T05:56:38.194591",
     "exception": false,
     "start_time": "2022-09-13T05:56:38.169625",
     "status": "completed"
    },
    "tags": []
   },
   "outputs": [
    {
     "data": {
      "text/plain": [
       "<bound method DataFrame.info of                date  date_block_num  shop_id  item_id  item_price  \\\n",
       "0        02.01.2013               0       59    22154      999.00   \n",
       "1        03.01.2013               0       25     2552      899.00   \n",
       "2        05.01.2013               0       25     2552      899.00   \n",
       "3        06.01.2013               0       25     2554     1709.05   \n",
       "4        15.01.2013               0       25     2555     1099.00   \n",
       "...             ...             ...      ...      ...         ...   \n",
       "2935844  10.10.2015              33       25     7409      299.00   \n",
       "2935845  09.10.2015              33       25     7460      299.00   \n",
       "2935846  14.10.2015              33       25     7459      349.00   \n",
       "2935847  22.10.2015              33       25     7440      299.00   \n",
       "2935848  03.10.2015              33       25     7460      299.00   \n",
       "\n",
       "         item_cnt_day  \n",
       "0                 1.0  \n",
       "1                 1.0  \n",
       "2                -1.0  \n",
       "3                 1.0  \n",
       "4                 1.0  \n",
       "...               ...  \n",
       "2935844           1.0  \n",
       "2935845           1.0  \n",
       "2935846           1.0  \n",
       "2935847           1.0  \n",
       "2935848           1.0  \n",
       "\n",
       "[2935849 rows x 6 columns]>"
      ]
     },
     "execution_count": 8,
     "metadata": {},
     "output_type": "execute_result"
    }
   ],
   "source": [
    "train_data.info"
   ]
  },
  {
   "cell_type": "code",
   "execution_count": 9,
   "id": "f7e9e8c8",
   "metadata": {
    "execution": {
     "iopub.execute_input": "2022-09-13T05:56:38.211192Z",
     "iopub.status.busy": "2022-09-13T05:56:38.209875Z",
     "iopub.status.idle": "2022-09-13T05:56:38.370487Z",
     "shell.execute_reply": "2022-09-13T05:56:38.369554Z"
    },
    "papermill": {
     "duration": 0.17177,
     "end_time": "2022-09-13T05:56:38.373141",
     "exception": false,
     "start_time": "2022-09-13T05:56:38.201371",
     "status": "completed"
    },
    "tags": []
   },
   "outputs": [
    {
     "data": {
      "text/plain": [
       "date              0\n",
       "date_block_num    0\n",
       "shop_id           0\n",
       "item_id           0\n",
       "item_price        0\n",
       "item_cnt_day      0\n",
       "dtype: int64"
      ]
     },
     "execution_count": 9,
     "metadata": {},
     "output_type": "execute_result"
    }
   ],
   "source": [
    "train_data.isnull().sum()"
   ]
  },
  {
   "cell_type": "code",
   "execution_count": 10,
   "id": "f17b8c69",
   "metadata": {
    "execution": {
     "iopub.execute_input": "2022-09-13T05:56:38.388840Z",
     "iopub.status.busy": "2022-09-13T05:56:38.388094Z",
     "iopub.status.idle": "2022-09-13T05:56:38.399994Z",
     "shell.execute_reply": "2022-09-13T05:56:38.398820Z"
    },
    "papermill": {
     "duration": 0.022605,
     "end_time": "2022-09-13T05:56:38.402610",
     "exception": false,
     "start_time": "2022-09-13T05:56:38.380005",
     "status": "completed"
    },
    "tags": []
   },
   "outputs": [
    {
     "data": {
      "text/html": [
       "<div>\n",
       "<style scoped>\n",
       "    .dataframe tbody tr th:only-of-type {\n",
       "        vertical-align: middle;\n",
       "    }\n",
       "\n",
       "    .dataframe tbody tr th {\n",
       "        vertical-align: top;\n",
       "    }\n",
       "\n",
       "    .dataframe thead th {\n",
       "        text-align: right;\n",
       "    }\n",
       "</style>\n",
       "<table border=\"1\" class=\"dataframe\">\n",
       "  <thead>\n",
       "    <tr style=\"text-align: right;\">\n",
       "      <th></th>\n",
       "      <th>item_name</th>\n",
       "      <th>item_id</th>\n",
       "      <th>item_category_id</th>\n",
       "    </tr>\n",
       "  </thead>\n",
       "  <tbody>\n",
       "    <tr>\n",
       "      <th>0</th>\n",
       "      <td>! ВО ВЛАСТИ НАВАЖДЕНИЯ (ПЛАСТ.)         D</td>\n",
       "      <td>0</td>\n",
       "      <td>40</td>\n",
       "    </tr>\n",
       "    <tr>\n",
       "      <th>1</th>\n",
       "      <td>!ABBYY FineReader 12 Professional Edition Full...</td>\n",
       "      <td>1</td>\n",
       "      <td>76</td>\n",
       "    </tr>\n",
       "    <tr>\n",
       "      <th>2</th>\n",
       "      <td>***В ЛУЧАХ СЛАВЫ   (UNV)                    D</td>\n",
       "      <td>2</td>\n",
       "      <td>40</td>\n",
       "    </tr>\n",
       "    <tr>\n",
       "      <th>3</th>\n",
       "      <td>***ГОЛУБАЯ ВОЛНА  (Univ)                      D</td>\n",
       "      <td>3</td>\n",
       "      <td>40</td>\n",
       "    </tr>\n",
       "    <tr>\n",
       "      <th>4</th>\n",
       "      <td>***КОРОБКА (СТЕКЛО)                       D</td>\n",
       "      <td>4</td>\n",
       "      <td>40</td>\n",
       "    </tr>\n",
       "  </tbody>\n",
       "</table>\n",
       "</div>"
      ],
      "text/plain": [
       "                                           item_name  item_id  \\\n",
       "0          ! ВО ВЛАСТИ НАВАЖДЕНИЯ (ПЛАСТ.)         D        0   \n",
       "1  !ABBYY FineReader 12 Professional Edition Full...        1   \n",
       "2      ***В ЛУЧАХ СЛАВЫ   (UNV)                    D        2   \n",
       "3    ***ГОЛУБАЯ ВОЛНА  (Univ)                      D        3   \n",
       "4        ***КОРОБКА (СТЕКЛО)                       D        4   \n",
       "\n",
       "   item_category_id  \n",
       "0                40  \n",
       "1                76  \n",
       "2                40  \n",
       "3                40  \n",
       "4                40  "
      ]
     },
     "execution_count": 10,
     "metadata": {},
     "output_type": "execute_result"
    }
   ],
   "source": [
    "items_data.head() # 22170 * 3\n",
    "# items_data.count()"
   ]
  },
  {
   "cell_type": "code",
   "execution_count": 11,
   "id": "936124bf",
   "metadata": {
    "execution": {
     "iopub.execute_input": "2022-09-13T05:56:38.418787Z",
     "iopub.status.busy": "2022-09-13T05:56:38.417877Z",
     "iopub.status.idle": "2022-09-13T05:56:38.428803Z",
     "shell.execute_reply": "2022-09-13T05:56:38.427822Z"
    },
    "papermill": {
     "duration": 0.021506,
     "end_time": "2022-09-13T05:56:38.431211",
     "exception": false,
     "start_time": "2022-09-13T05:56:38.409705",
     "status": "completed"
    },
    "tags": []
   },
   "outputs": [
    {
     "data": {
      "text/html": [
       "<div>\n",
       "<style scoped>\n",
       "    .dataframe tbody tr th:only-of-type {\n",
       "        vertical-align: middle;\n",
       "    }\n",
       "\n",
       "    .dataframe tbody tr th {\n",
       "        vertical-align: top;\n",
       "    }\n",
       "\n",
       "    .dataframe thead th {\n",
       "        text-align: right;\n",
       "    }\n",
       "</style>\n",
       "<table border=\"1\" class=\"dataframe\">\n",
       "  <thead>\n",
       "    <tr style=\"text-align: right;\">\n",
       "      <th></th>\n",
       "      <th>shop_name</th>\n",
       "      <th>shop_id</th>\n",
       "    </tr>\n",
       "  </thead>\n",
       "  <tbody>\n",
       "    <tr>\n",
       "      <th>0</th>\n",
       "      <td>!Якутск Орджоникидзе, 56 фран</td>\n",
       "      <td>0</td>\n",
       "    </tr>\n",
       "    <tr>\n",
       "      <th>1</th>\n",
       "      <td>!Якутск ТЦ \"Центральный\" фран</td>\n",
       "      <td>1</td>\n",
       "    </tr>\n",
       "    <tr>\n",
       "      <th>2</th>\n",
       "      <td>Адыгея ТЦ \"Мега\"</td>\n",
       "      <td>2</td>\n",
       "    </tr>\n",
       "    <tr>\n",
       "      <th>3</th>\n",
       "      <td>Балашиха ТРК \"Октябрь-Киномир\"</td>\n",
       "      <td>3</td>\n",
       "    </tr>\n",
       "    <tr>\n",
       "      <th>4</th>\n",
       "      <td>Волжский ТЦ \"Волга Молл\"</td>\n",
       "      <td>4</td>\n",
       "    </tr>\n",
       "  </tbody>\n",
       "</table>\n",
       "</div>"
      ],
      "text/plain": [
       "                        shop_name  shop_id\n",
       "0   !Якутск Орджоникидзе, 56 фран        0\n",
       "1   !Якутск ТЦ \"Центральный\" фран        1\n",
       "2                Адыгея ТЦ \"Мега\"        2\n",
       "3  Балашиха ТРК \"Октябрь-Киномир\"        3\n",
       "4        Волжский ТЦ \"Волга Молл\"        4"
      ]
     },
     "execution_count": 11,
     "metadata": {},
     "output_type": "execute_result"
    }
   ],
   "source": [
    "shops_data.head() # 60* 2\n",
    "# shops_data.count()"
   ]
  },
  {
   "cell_type": "code",
   "execution_count": 12,
   "id": "0b9da07b",
   "metadata": {
    "execution": {
     "iopub.execute_input": "2022-09-13T05:56:38.447852Z",
     "iopub.status.busy": "2022-09-13T05:56:38.447409Z",
     "iopub.status.idle": "2022-09-13T05:56:38.457557Z",
     "shell.execute_reply": "2022-09-13T05:56:38.456475Z"
    },
    "papermill": {
     "duration": 0.020986,
     "end_time": "2022-09-13T05:56:38.460023",
     "exception": false,
     "start_time": "2022-09-13T05:56:38.439037",
     "status": "completed"
    },
    "tags": []
   },
   "outputs": [
    {
     "data": {
      "text/html": [
       "<div>\n",
       "<style scoped>\n",
       "    .dataframe tbody tr th:only-of-type {\n",
       "        vertical-align: middle;\n",
       "    }\n",
       "\n",
       "    .dataframe tbody tr th {\n",
       "        vertical-align: top;\n",
       "    }\n",
       "\n",
       "    .dataframe thead th {\n",
       "        text-align: right;\n",
       "    }\n",
       "</style>\n",
       "<table border=\"1\" class=\"dataframe\">\n",
       "  <thead>\n",
       "    <tr style=\"text-align: right;\">\n",
       "      <th></th>\n",
       "      <th>ID</th>\n",
       "      <th>shop_id</th>\n",
       "      <th>item_id</th>\n",
       "    </tr>\n",
       "  </thead>\n",
       "  <tbody>\n",
       "    <tr>\n",
       "      <th>0</th>\n",
       "      <td>0</td>\n",
       "      <td>5</td>\n",
       "      <td>5037</td>\n",
       "    </tr>\n",
       "    <tr>\n",
       "      <th>1</th>\n",
       "      <td>1</td>\n",
       "      <td>5</td>\n",
       "      <td>5320</td>\n",
       "    </tr>\n",
       "    <tr>\n",
       "      <th>2</th>\n",
       "      <td>2</td>\n",
       "      <td>5</td>\n",
       "      <td>5233</td>\n",
       "    </tr>\n",
       "    <tr>\n",
       "      <th>3</th>\n",
       "      <td>3</td>\n",
       "      <td>5</td>\n",
       "      <td>5232</td>\n",
       "    </tr>\n",
       "    <tr>\n",
       "      <th>4</th>\n",
       "      <td>4</td>\n",
       "      <td>5</td>\n",
       "      <td>5268</td>\n",
       "    </tr>\n",
       "  </tbody>\n",
       "</table>\n",
       "</div>"
      ],
      "text/plain": [
       "   ID  shop_id  item_id\n",
       "0   0        5     5037\n",
       "1   1        5     5320\n",
       "2   2        5     5233\n",
       "3   3        5     5232\n",
       "4   4        5     5268"
      ]
     },
     "execution_count": 12,
     "metadata": {},
     "output_type": "execute_result"
    }
   ],
   "source": [
    "test_data.head() #214200 * 3\n",
    "# test_data.count()"
   ]
  },
  {
   "cell_type": "code",
   "execution_count": 13,
   "id": "c31556d6",
   "metadata": {
    "execution": {
     "iopub.execute_input": "2022-09-13T05:56:38.476782Z",
     "iopub.status.busy": "2022-09-13T05:56:38.476298Z",
     "iopub.status.idle": "2022-09-13T05:56:40.136013Z",
     "shell.execute_reply": "2022-09-13T05:56:40.134974Z"
    },
    "papermill": {
     "duration": 1.671329,
     "end_time": "2022-09-13T05:56:40.138887",
     "exception": false,
     "start_time": "2022-09-13T05:56:38.467558",
     "status": "completed"
    },
    "tags": []
   },
   "outputs": [
    {
     "name": "stdout",
     "output_type": "stream",
     "text": [
      "<class 'pandas.core.frame.DataFrame'>\n",
      "Int64Index: 2936212 entries, 0 to 2936211\n",
      "Data columns (total 9 columns):\n",
      " #   Column            Dtype  \n",
      "---  ------            -----  \n",
      " 0   date              object \n",
      " 1   date_block_num    float64\n",
      " 2   shop_id           float64\n",
      " 3   item_id           int64  \n",
      " 4   item_price        float64\n",
      " 5   item_cnt_day      float64\n",
      " 6   shop_name         object \n",
      " 7   item_name         object \n",
      " 8   item_category_id  int64  \n",
      "dtypes: float64(4), int64(2), object(3)\n",
      "memory usage: 224.0+ MB\n"
     ]
    }
   ],
   "source": [
    "train = train_data.merge(shops_data,on = ['shop_id'],how = 'right')\n",
    "train = train.merge(items_data, on = ['item_id'],how='right')\n",
    "train.info()"
   ]
  },
  {
   "cell_type": "code",
   "execution_count": 14,
   "id": "8f67d8d9",
   "metadata": {
    "execution": {
     "iopub.execute_input": "2022-09-13T05:56:40.155898Z",
     "iopub.status.busy": "2022-09-13T05:56:40.155077Z",
     "iopub.status.idle": "2022-09-13T05:56:40.563827Z",
     "shell.execute_reply": "2022-09-13T05:56:40.562751Z"
    },
    "papermill": {
     "duration": 0.420059,
     "end_time": "2022-09-13T05:56:40.566452",
     "exception": false,
     "start_time": "2022-09-13T05:56:40.146393",
     "status": "completed"
    },
    "tags": []
   },
   "outputs": [
    {
     "data": {
      "text/plain": [
       "date                363\n",
       "date_block_num      363\n",
       "shop_id             363\n",
       "item_id               0\n",
       "item_price          363\n",
       "item_cnt_day        363\n",
       "shop_name           363\n",
       "item_name             0\n",
       "item_category_id      0\n",
       "dtype: int64"
      ]
     },
     "execution_count": 14,
     "metadata": {},
     "output_type": "execute_result"
    }
   ],
   "source": [
    "train.isnull().sum()"
   ]
  },
  {
   "cell_type": "code",
   "execution_count": 15,
   "id": "490b4757",
   "metadata": {
    "execution": {
     "iopub.execute_input": "2022-09-13T05:56:40.583921Z",
     "iopub.status.busy": "2022-09-13T05:56:40.582842Z",
     "iopub.status.idle": "2022-09-13T05:56:41.644999Z",
     "shell.execute_reply": "2022-09-13T05:56:41.643861Z"
    },
    "papermill": {
     "duration": 1.07368,
     "end_time": "2022-09-13T05:56:41.647736",
     "exception": false,
     "start_time": "2022-09-13T05:56:40.574056",
     "status": "completed"
    },
    "tags": []
   },
   "outputs": [],
   "source": [
    "train = train.dropna()"
   ]
  },
  {
   "cell_type": "code",
   "execution_count": 16,
   "id": "5c24f1d0",
   "metadata": {
    "execution": {
     "iopub.execute_input": "2022-09-13T05:56:41.664568Z",
     "iopub.status.busy": "2022-09-13T05:56:41.664153Z",
     "iopub.status.idle": "2022-09-13T05:56:42.067461Z",
     "shell.execute_reply": "2022-09-13T05:56:42.066514Z"
    },
    "papermill": {
     "duration": 0.414519,
     "end_time": "2022-09-13T05:56:42.069960",
     "exception": false,
     "start_time": "2022-09-13T05:56:41.655441",
     "status": "completed"
    },
    "tags": []
   },
   "outputs": [
    {
     "data": {
      "text/plain": [
       "date                0\n",
       "date_block_num      0\n",
       "shop_id             0\n",
       "item_id             0\n",
       "item_price          0\n",
       "item_cnt_day        0\n",
       "shop_name           0\n",
       "item_name           0\n",
       "item_category_id    0\n",
       "dtype: int64"
      ]
     },
     "execution_count": 16,
     "metadata": {},
     "output_type": "execute_result"
    }
   ],
   "source": [
    "train.isnull().sum()"
   ]
  },
  {
   "cell_type": "code",
   "execution_count": 17,
   "id": "3b00a63d",
   "metadata": {
    "execution": {
     "iopub.execute_input": "2022-09-13T05:56:42.087973Z",
     "iopub.status.busy": "2022-09-13T05:56:42.087566Z",
     "iopub.status.idle": "2022-09-13T05:56:42.105049Z",
     "shell.execute_reply": "2022-09-13T05:56:42.103884Z"
    },
    "papermill": {
     "duration": 0.029546,
     "end_time": "2022-09-13T05:56:42.107406",
     "exception": false,
     "start_time": "2022-09-13T05:56:42.077860",
     "status": "completed"
    },
    "tags": []
   },
   "outputs": [
    {
     "data": {
      "text/html": [
       "<div>\n",
       "<style scoped>\n",
       "    .dataframe tbody tr th:only-of-type {\n",
       "        vertical-align: middle;\n",
       "    }\n",
       "\n",
       "    .dataframe tbody tr th {\n",
       "        vertical-align: top;\n",
       "    }\n",
       "\n",
       "    .dataframe thead th {\n",
       "        text-align: right;\n",
       "    }\n",
       "</style>\n",
       "<table border=\"1\" class=\"dataframe\">\n",
       "  <thead>\n",
       "    <tr style=\"text-align: right;\">\n",
       "      <th></th>\n",
       "      <th>date</th>\n",
       "      <th>date_block_num</th>\n",
       "      <th>shop_id</th>\n",
       "      <th>item_id</th>\n",
       "      <th>item_price</th>\n",
       "      <th>item_cnt_day</th>\n",
       "      <th>shop_name</th>\n",
       "      <th>item_name</th>\n",
       "      <th>item_category_id</th>\n",
       "    </tr>\n",
       "  </thead>\n",
       "  <tbody>\n",
       "    <tr>\n",
       "      <th>0</th>\n",
       "      <td>01.09.2014</td>\n",
       "      <td>20.0</td>\n",
       "      <td>54.0</td>\n",
       "      <td>0</td>\n",
       "      <td>58.0</td>\n",
       "      <td>1.0</td>\n",
       "      <td>Химки ТЦ \"Мега\"</td>\n",
       "      <td>! ВО ВЛАСТИ НАВАЖДЕНИЯ (ПЛАСТ.)         D</td>\n",
       "      <td>40</td>\n",
       "    </tr>\n",
       "    <tr>\n",
       "      <th>1</th>\n",
       "      <td>04.04.2014</td>\n",
       "      <td>15.0</td>\n",
       "      <td>55.0</td>\n",
       "      <td>1</td>\n",
       "      <td>4490.0</td>\n",
       "      <td>1.0</td>\n",
       "      <td>Цифровой склад 1С-Онлайн</td>\n",
       "      <td>!ABBYY FineReader 12 Professional Edition Full...</td>\n",
       "      <td>76</td>\n",
       "    </tr>\n",
       "    <tr>\n",
       "      <th>2</th>\n",
       "      <td>02.04.2014</td>\n",
       "      <td>15.0</td>\n",
       "      <td>55.0</td>\n",
       "      <td>1</td>\n",
       "      <td>4490.0</td>\n",
       "      <td>1.0</td>\n",
       "      <td>Цифровой склад 1С-Онлайн</td>\n",
       "      <td>!ABBYY FineReader 12 Professional Edition Full...</td>\n",
       "      <td>76</td>\n",
       "    </tr>\n",
       "    <tr>\n",
       "      <th>3</th>\n",
       "      <td>06.07.2014</td>\n",
       "      <td>18.0</td>\n",
       "      <td>55.0</td>\n",
       "      <td>1</td>\n",
       "      <td>4490.0</td>\n",
       "      <td>1.0</td>\n",
       "      <td>Цифровой склад 1С-Онлайн</td>\n",
       "      <td>!ABBYY FineReader 12 Professional Edition Full...</td>\n",
       "      <td>76</td>\n",
       "    </tr>\n",
       "    <tr>\n",
       "      <th>4</th>\n",
       "      <td>04.08.2014</td>\n",
       "      <td>19.0</td>\n",
       "      <td>55.0</td>\n",
       "      <td>1</td>\n",
       "      <td>4490.0</td>\n",
       "      <td>1.0</td>\n",
       "      <td>Цифровой склад 1С-Онлайн</td>\n",
       "      <td>!ABBYY FineReader 12 Professional Edition Full...</td>\n",
       "      <td>76</td>\n",
       "    </tr>\n",
       "  </tbody>\n",
       "</table>\n",
       "</div>"
      ],
      "text/plain": [
       "         date  date_block_num  shop_id  item_id  item_price  item_cnt_day  \\\n",
       "0  01.09.2014            20.0     54.0        0        58.0           1.0   \n",
       "1  04.04.2014            15.0     55.0        1      4490.0           1.0   \n",
       "2  02.04.2014            15.0     55.0        1      4490.0           1.0   \n",
       "3  06.07.2014            18.0     55.0        1      4490.0           1.0   \n",
       "4  04.08.2014            19.0     55.0        1      4490.0           1.0   \n",
       "\n",
       "                  shop_name  \\\n",
       "0           Химки ТЦ \"Мега\"   \n",
       "1  Цифровой склад 1С-Онлайн   \n",
       "2  Цифровой склад 1С-Онлайн   \n",
       "3  Цифровой склад 1С-Онлайн   \n",
       "4  Цифровой склад 1С-Онлайн   \n",
       "\n",
       "                                           item_name  item_category_id  \n",
       "0          ! ВО ВЛАСТИ НАВАЖДЕНИЯ (ПЛАСТ.)         D                40  \n",
       "1  !ABBYY FineReader 12 Professional Edition Full...                76  \n",
       "2  !ABBYY FineReader 12 Professional Edition Full...                76  \n",
       "3  !ABBYY FineReader 12 Professional Edition Full...                76  \n",
       "4  !ABBYY FineReader 12 Professional Edition Full...                76  "
      ]
     },
     "execution_count": 17,
     "metadata": {},
     "output_type": "execute_result"
    }
   ],
   "source": [
    "train.head()"
   ]
  },
  {
   "cell_type": "code",
   "execution_count": 18,
   "id": "bf3471b8",
   "metadata": {
    "execution": {
     "iopub.execute_input": "2022-09-13T05:56:42.125109Z",
     "iopub.status.busy": "2022-09-13T05:56:42.124707Z",
     "iopub.status.idle": "2022-09-13T05:56:42.988703Z",
     "shell.execute_reply": "2022-09-13T05:56:42.987754Z"
    },
    "papermill": {
     "duration": 0.875944,
     "end_time": "2022-09-13T05:56:42.991220",
     "exception": false,
     "start_time": "2022-09-13T05:56:42.115276",
     "status": "completed"
    },
    "tags": []
   },
   "outputs": [
    {
     "data": {
      "text/html": [
       "<div>\n",
       "<style scoped>\n",
       "    .dataframe tbody tr th:only-of-type {\n",
       "        vertical-align: middle;\n",
       "    }\n",
       "\n",
       "    .dataframe tbody tr th {\n",
       "        vertical-align: top;\n",
       "    }\n",
       "\n",
       "    .dataframe thead th {\n",
       "        text-align: right;\n",
       "    }\n",
       "</style>\n",
       "<table border=\"1\" class=\"dataframe\">\n",
       "  <thead>\n",
       "    <tr style=\"text-align: right;\">\n",
       "      <th></th>\n",
       "      <th>date</th>\n",
       "      <th>date_block_num</th>\n",
       "      <th>shop_id</th>\n",
       "      <th>item_id</th>\n",
       "      <th>item_price</th>\n",
       "      <th>item_cnt_day</th>\n",
       "      <th>shop_name</th>\n",
       "      <th>item_name</th>\n",
       "      <th>item_category_id</th>\n",
       "      <th>month</th>\n",
       "    </tr>\n",
       "  </thead>\n",
       "  <tbody>\n",
       "    <tr>\n",
       "      <th>0</th>\n",
       "      <td>2014-01-09</td>\n",
       "      <td>20.0</td>\n",
       "      <td>54.0</td>\n",
       "      <td>0</td>\n",
       "      <td>58.0</td>\n",
       "      <td>1.0</td>\n",
       "      <td>Химки ТЦ \"Мега\"</td>\n",
       "      <td>! ВО ВЛАСТИ НАВАЖДЕНИЯ (ПЛАСТ.)         D</td>\n",
       "      <td>40</td>\n",
       "      <td>1</td>\n",
       "    </tr>\n",
       "    <tr>\n",
       "      <th>1</th>\n",
       "      <td>2014-04-04</td>\n",
       "      <td>15.0</td>\n",
       "      <td>55.0</td>\n",
       "      <td>1</td>\n",
       "      <td>4490.0</td>\n",
       "      <td>1.0</td>\n",
       "      <td>Цифровой склад 1С-Онлайн</td>\n",
       "      <td>!ABBYY FineReader 12 Professional Edition Full...</td>\n",
       "      <td>76</td>\n",
       "      <td>4</td>\n",
       "    </tr>\n",
       "    <tr>\n",
       "      <th>2</th>\n",
       "      <td>2014-02-04</td>\n",
       "      <td>15.0</td>\n",
       "      <td>55.0</td>\n",
       "      <td>1</td>\n",
       "      <td>4490.0</td>\n",
       "      <td>1.0</td>\n",
       "      <td>Цифровой склад 1С-Онлайн</td>\n",
       "      <td>!ABBYY FineReader 12 Professional Edition Full...</td>\n",
       "      <td>76</td>\n",
       "      <td>2</td>\n",
       "    </tr>\n",
       "    <tr>\n",
       "      <th>3</th>\n",
       "      <td>2014-06-07</td>\n",
       "      <td>18.0</td>\n",
       "      <td>55.0</td>\n",
       "      <td>1</td>\n",
       "      <td>4490.0</td>\n",
       "      <td>1.0</td>\n",
       "      <td>Цифровой склад 1С-Онлайн</td>\n",
       "      <td>!ABBYY FineReader 12 Professional Edition Full...</td>\n",
       "      <td>76</td>\n",
       "      <td>6</td>\n",
       "    </tr>\n",
       "    <tr>\n",
       "      <th>4</th>\n",
       "      <td>2014-04-08</td>\n",
       "      <td>19.0</td>\n",
       "      <td>55.0</td>\n",
       "      <td>1</td>\n",
       "      <td>4490.0</td>\n",
       "      <td>1.0</td>\n",
       "      <td>Цифровой склад 1С-Онлайн</td>\n",
       "      <td>!ABBYY FineReader 12 Professional Edition Full...</td>\n",
       "      <td>76</td>\n",
       "      <td>4</td>\n",
       "    </tr>\n",
       "    <tr>\n",
       "      <th>...</th>\n",
       "      <td>...</td>\n",
       "      <td>...</td>\n",
       "      <td>...</td>\n",
       "      <td>...</td>\n",
       "      <td>...</td>\n",
       "      <td>...</td>\n",
       "      <td>...</td>\n",
       "      <td>...</td>\n",
       "      <td>...</td>\n",
       "      <td>...</td>\n",
       "    </tr>\n",
       "    <tr>\n",
       "      <th>2936207</th>\n",
       "      <td>2013-09-13</td>\n",
       "      <td>8.0</td>\n",
       "      <td>12.0</td>\n",
       "      <td>22168</td>\n",
       "      <td>799.0</td>\n",
       "      <td>1.0</td>\n",
       "      <td>Интернет-магазин ЧС</td>\n",
       "      <td>Яйцо для Little Inu</td>\n",
       "      <td>62</td>\n",
       "      <td>9</td>\n",
       "    </tr>\n",
       "    <tr>\n",
       "      <th>2936208</th>\n",
       "      <td>2013-02-17</td>\n",
       "      <td>1.0</td>\n",
       "      <td>16.0</td>\n",
       "      <td>22168</td>\n",
       "      <td>799.0</td>\n",
       "      <td>1.0</td>\n",
       "      <td>Коломна ТЦ \"Рио\"</td>\n",
       "      <td>Яйцо для Little Inu</td>\n",
       "      <td>62</td>\n",
       "      <td>2</td>\n",
       "    </tr>\n",
       "    <tr>\n",
       "      <th>2936209</th>\n",
       "      <td>2013-02-02</td>\n",
       "      <td>1.0</td>\n",
       "      <td>42.0</td>\n",
       "      <td>22168</td>\n",
       "      <td>799.0</td>\n",
       "      <td>1.0</td>\n",
       "      <td>СПб ТК \"Невский Центр\"</td>\n",
       "      <td>Яйцо для Little Inu</td>\n",
       "      <td>62</td>\n",
       "      <td>2</td>\n",
       "    </tr>\n",
       "    <tr>\n",
       "      <th>2936210</th>\n",
       "      <td>2013-08-03</td>\n",
       "      <td>2.0</td>\n",
       "      <td>43.0</td>\n",
       "      <td>22168</td>\n",
       "      <td>798.5</td>\n",
       "      <td>1.0</td>\n",
       "      <td>СПб ТК \"Сенная\"</td>\n",
       "      <td>Яйцо для Little Inu</td>\n",
       "      <td>62</td>\n",
       "      <td>8</td>\n",
       "    </tr>\n",
       "    <tr>\n",
       "      <th>2936211</th>\n",
       "      <td>2014-03-21</td>\n",
       "      <td>14.0</td>\n",
       "      <td>25.0</td>\n",
       "      <td>22169</td>\n",
       "      <td>4349.0</td>\n",
       "      <td>1.0</td>\n",
       "      <td>Москва ТРК \"Атриум\"</td>\n",
       "      <td>Яйцо дракона (Игра престолов)</td>\n",
       "      <td>69</td>\n",
       "      <td>3</td>\n",
       "    </tr>\n",
       "  </tbody>\n",
       "</table>\n",
       "<p>2935849 rows × 10 columns</p>\n",
       "</div>"
      ],
      "text/plain": [
       "              date  date_block_num  shop_id  item_id  item_price  \\\n",
       "0       2014-01-09            20.0     54.0        0        58.0   \n",
       "1       2014-04-04            15.0     55.0        1      4490.0   \n",
       "2       2014-02-04            15.0     55.0        1      4490.0   \n",
       "3       2014-06-07            18.0     55.0        1      4490.0   \n",
       "4       2014-04-08            19.0     55.0        1      4490.0   \n",
       "...            ...             ...      ...      ...         ...   \n",
       "2936207 2013-09-13             8.0     12.0    22168       799.0   \n",
       "2936208 2013-02-17             1.0     16.0    22168       799.0   \n",
       "2936209 2013-02-02             1.0     42.0    22168       799.0   \n",
       "2936210 2013-08-03             2.0     43.0    22168       798.5   \n",
       "2936211 2014-03-21            14.0     25.0    22169      4349.0   \n",
       "\n",
       "         item_cnt_day                 shop_name  \\\n",
       "0                 1.0           Химки ТЦ \"Мега\"   \n",
       "1                 1.0  Цифровой склад 1С-Онлайн   \n",
       "2                 1.0  Цифровой склад 1С-Онлайн   \n",
       "3                 1.0  Цифровой склад 1С-Онлайн   \n",
       "4                 1.0  Цифровой склад 1С-Онлайн   \n",
       "...               ...                       ...   \n",
       "2936207           1.0       Интернет-магазин ЧС   \n",
       "2936208           1.0          Коломна ТЦ \"Рио\"   \n",
       "2936209           1.0    СПб ТК \"Невский Центр\"   \n",
       "2936210           1.0           СПб ТК \"Сенная\"   \n",
       "2936211           1.0       Москва ТРК \"Атриум\"   \n",
       "\n",
       "                                                 item_name  item_category_id  \\\n",
       "0                ! ВО ВЛАСТИ НАВАЖДЕНИЯ (ПЛАСТ.)         D                40   \n",
       "1        !ABBYY FineReader 12 Professional Edition Full...                76   \n",
       "2        !ABBYY FineReader 12 Professional Edition Full...                76   \n",
       "3        !ABBYY FineReader 12 Professional Edition Full...                76   \n",
       "4        !ABBYY FineReader 12 Professional Edition Full...                76   \n",
       "...                                                    ...               ...   \n",
       "2936207                                Яйцо для Little Inu                62   \n",
       "2936208                                Яйцо для Little Inu                62   \n",
       "2936209                                Яйцо для Little Inu                62   \n",
       "2936210                                Яйцо для Little Inu                62   \n",
       "2936211                      Яйцо дракона (Игра престолов)                69   \n",
       "\n",
       "         month  \n",
       "0            1  \n",
       "1            4  \n",
       "2            2  \n",
       "3            6  \n",
       "4            4  \n",
       "...        ...  \n",
       "2936207      9  \n",
       "2936208      2  \n",
       "2936209      2  \n",
       "2936210      8  \n",
       "2936211      3  \n",
       "\n",
       "[2935849 rows x 10 columns]"
      ]
     },
     "execution_count": 18,
     "metadata": {},
     "output_type": "execute_result"
    }
   ],
   "source": [
    "train['date'] = pd.to_datetime(train['date'])\n",
    "train['month'] = train['date'].dt.month\n",
    "train"
   ]
  },
  {
   "cell_type": "code",
   "execution_count": 19,
   "id": "7cbc9a84",
   "metadata": {
    "execution": {
     "iopub.execute_input": "2022-09-13T05:56:43.009864Z",
     "iopub.status.busy": "2022-09-13T05:56:43.009388Z",
     "iopub.status.idle": "2022-09-13T05:56:43.023158Z",
     "shell.execute_reply": "2022-09-13T05:56:43.022061Z"
    },
    "papermill": {
     "duration": 0.025948,
     "end_time": "2022-09-13T05:56:43.025740",
     "exception": false,
     "start_time": "2022-09-13T05:56:42.999792",
     "status": "completed"
    },
    "tags": []
   },
   "outputs": [],
   "source": [
    "# income for each item price with per day\n",
    "train['income'] = train['item_cnt_day'] * train['item_price']\n"
   ]
  },
  {
   "cell_type": "code",
   "execution_count": null,
   "id": "41d4b40c",
   "metadata": {
    "papermill": {
     "duration": 0.008072,
     "end_time": "2022-09-13T05:56:43.042388",
     "exception": false,
     "start_time": "2022-09-13T05:56:43.034316",
     "status": "completed"
    },
    "tags": []
   },
   "outputs": [],
   "source": []
  }
 ],
 "metadata": {
  "kernelspec": {
   "display_name": "Python 3",
   "language": "python",
   "name": "python3"
  },
  "language_info": {
   "codemirror_mode": {
    "name": "ipython",
    "version": 3
   },
   "file_extension": ".py",
   "mimetype": "text/x-python",
   "name": "python",
   "nbconvert_exporter": "python",
   "pygments_lexer": "ipython3",
   "version": "3.7.12"
  },
  "papermill": {
   "default_parameters": {},
   "duration": 20.295252,
   "end_time": "2022-09-13T05:56:43.874418",
   "environment_variables": {},
   "exception": null,
   "input_path": "__notebook__.ipynb",
   "output_path": "__notebook__.ipynb",
   "parameters": {},
   "start_time": "2022-09-13T05:56:23.579166",
   "version": "2.3.4"
  }
 },
 "nbformat": 4,
 "nbformat_minor": 5
}
